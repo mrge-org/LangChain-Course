{
 "cells": [
  {
   "cell_type": "markdown",
   "id": "24fb74ce",
   "metadata": {},
   "source": [
    "# Chat Demo"
   ]
  },
  {
   "cell_type": "code",
   "execution_count": null,
   "id": "5be50df1",
   "metadata": {},
   "outputs": [],
   "source": [
    "# !pip install gradio "
   ]
  },
  {
   "cell_type": "code",
   "execution_count": null,
   "id": "84b3bb5d",
   "metadata": {},
   "outputs": [],
   "source": [
    "import openai\n",
    "import os \n",
    "from langchain.llms import OpenAI\n",
    "from langchain.chat_models import ChatOpenAI\n",
    "from langchain.chains import ConversationChain\n",
    "from langchain.memory import ConversationBufferMemory\n",
    "import gradio as gr"
   ]
  },
  {
   "cell_type": "code",
   "execution_count": null,
   "id": "408be4c4",
   "metadata": {},
   "outputs": [],
   "source": [
    "os.environ['OPENAI_API_KEY'] = ''"
   ]
  },
  {
   "cell_type": "code",
   "execution_count": null,
   "id": "7149f404",
   "metadata": {},
   "outputs": [],
   "source": [
    "openai.api_key = os.getenv('OPENAI_API_KEY')"
   ]
  },
  {
   "cell_type": "code",
   "execution_count": null,
   "id": "4f8b2e11",
   "metadata": {},
   "outputs": [],
   "source": [
    "llm = ChatOpenAI()"
   ]
  },
  {
   "cell_type": "code",
   "execution_count": null,
   "id": "eeae9947",
   "metadata": {},
   "outputs": [],
   "source": [
    "memory = ConversationBufferMemory()\n",
    "\n",
    "conversation = ConversationChain(\n",
    "    llm=llm,\n",
    "    memory=memory\n",
    ")"
   ]
  },
  {
   "cell_type": "code",
   "execution_count": null,
   "id": "082ab6bb",
   "metadata": {},
   "outputs": [],
   "source": [
    "with gr.Blocks() as chat_system:\n",
    "    chat = gr.Chatbot()\n",
    "    prompt = gr.Textbox(placeholder=\"What's on your mind?\")\n",
    "    clear = gr.ClearButton([prompt, chat])\n",
    "    clear.click(conversation.memory.clear)\n",
    "\n",
    "    def llm_reply(prompt, chat_history):\n",
    "        reply = conversation.predict(input=prompt)\n",
    "        chat_history.append((prompt, reply))\n",
    "        return \"\", chat_history\n",
    "\n",
    "    prompt.submit(llm_reply, [prompt, chat], [prompt, chat])\n",
    "\n",
    "chat_system.launch()\n",
    "\n"
   ]
  },
  {
   "cell_type": "code",
   "execution_count": null,
   "id": "dd89e4f6",
   "metadata": {},
   "outputs": [],
   "source": []
  }
 ],
 "metadata": {
  "kernelspec": {
   "display_name": "Python 3 (ipykernel)",
   "language": "python",
   "name": "python3"
  },
  "language_info": {
   "codemirror_mode": {
    "name": "ipython",
    "version": 3
   },
   "file_extension": ".py",
   "mimetype": "text/x-python",
   "name": "python",
   "nbconvert_exporter": "python",
   "pygments_lexer": "ipython3",
   "version": "3.11.3"
  }
 },
 "nbformat": 4,
 "nbformat_minor": 5
}
