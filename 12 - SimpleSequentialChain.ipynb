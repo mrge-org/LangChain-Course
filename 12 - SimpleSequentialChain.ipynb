{
 "cells": [
  {
   "cell_type": "code",
   "execution_count": null,
   "id": "fe806ec8",
   "metadata": {},
   "outputs": [],
   "source": [
    "import openai\n",
    "import os \n",
    "from langchain.llms import OpenAI\n",
    "from langchain.chat_models import ChatOpenAI\n",
    "from langchain.prompts.chat import ChatPromptTemplate, HumanMessagePromptTemplate\n",
    "from langchain.chains import LLMChain,SimpleSequentialChain"
   ]
  },
  {
   "cell_type": "code",
   "execution_count": null,
   "id": "92a3cea3",
   "metadata": {},
   "outputs": [],
   "source": [
    "os.environ['OPENAI_API_KEY'] = ''"
   ]
  },
  {
   "cell_type": "code",
   "execution_count": null,
   "id": "04644d32",
   "metadata": {},
   "outputs": [],
   "source": [
    "openai.api_key = os.getenv('OPENAI_API_KEY')"
   ]
  },
  {
   "cell_type": "code",
   "execution_count": null,
   "id": "d10912ab",
   "metadata": {},
   "outputs": [],
   "source": [
    "llm = ChatOpenAI()"
   ]
  },
  {
   "cell_type": "code",
   "execution_count": null,
   "id": "013b4954",
   "metadata": {},
   "outputs": [],
   "source": [
    "template_one = \"Provide three titles of movies about {topic}.\"\n",
    "\n",
    "prompt_one = ChatPromptTemplate.from_template(template_one)\n",
    "\n",
    "chain_one = LLMChain(llm=llm, prompt=prompt_one)\n",
    "\n",
    "template_two = \"Write a one sentence description for each movie in this {list}.\"\n",
    "\n",
    "prompt_two = ChatPromptTemplate.from_template(template_two)\n",
    "\n",
    "chain_two = LLMChain(llm=llm, prompt=prompt_two)\n",
    "\n",
    "final_chain = SimpleSequentialChain(chains=[chain_one,chain_two], verbose=True)\n",
    "\n",
    "result = final_chain.run('Romance')"
   ]
  },
  {
   "cell_type": "code",
   "execution_count": null,
   "id": "55fc0b7a",
   "metadata": {},
   "outputs": [],
   "source": []
  }
 ],
 "metadata": {
  "kernelspec": {
   "display_name": "Python 3 (ipykernel)",
   "language": "python",
   "name": "python3"
  },
  "language_info": {
   "codemirror_mode": {
    "name": "ipython",
    "version": 3
   },
   "file_extension": ".py",
   "mimetype": "text/x-python",
   "name": "python",
   "nbconvert_exporter": "python",
   "pygments_lexer": "ipython3",
   "version": "3.11.3"
  }
 },
 "nbformat": 4,
 "nbformat_minor": 5
}
