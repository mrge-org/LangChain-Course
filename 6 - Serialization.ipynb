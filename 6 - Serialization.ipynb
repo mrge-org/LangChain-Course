{
 "cells": [
  {
   "cell_type": "markdown",
   "id": "f8696527",
   "metadata": {},
   "source": [
    "# Serialization"
   ]
  },
  {
   "cell_type": "code",
   "execution_count": null,
   "id": "c25639cd",
   "metadata": {},
   "outputs": [],
   "source": [
    "import openai\n",
    "import os \n",
    "from langchain.chat_models import ChatOpenAI\n",
    "from langchain.llms import OpenAI\n",
    "from langchain import PromptTemplate"
   ]
  },
  {
   "cell_type": "code",
   "execution_count": null,
   "id": "583cf13a",
   "metadata": {},
   "outputs": [],
   "source": [
    "os.environ['OPENAI_API_KEY'] = ''"
   ]
  },
  {
   "cell_type": "code",
   "execution_count": null,
   "id": "3812f111",
   "metadata": {},
   "outputs": [],
   "source": [
    "openai.api_key = os.getenv('OPENAI_API_KEY')"
   ]
  },
  {
   "cell_type": "code",
   "execution_count": null,
   "id": "c5ef84d8",
   "metadata": {},
   "outputs": [],
   "source": [
    "template = \"Describe {topic}\""
   ]
  },
  {
   "cell_type": "code",
   "execution_count": null,
   "id": "c87f3ea5",
   "metadata": {},
   "outputs": [],
   "source": [
    "prompt = PromptTemplate(template=template,input_variables=[\"topic\"])"
   ]
  },
  {
   "cell_type": "code",
   "execution_count": null,
   "id": "025fee92",
   "metadata": {},
   "outputs": [],
   "source": [
    "prompt.save(\"topic_template.json\")"
   ]
  },
  {
   "cell_type": "code",
   "execution_count": null,
   "id": "40d160a7",
   "metadata": {},
   "outputs": [],
   "source": [
    "from langchain.prompts import load_prompt"
   ]
  },
  {
   "cell_type": "code",
   "execution_count": null,
   "id": "000c8cb3",
   "metadata": {},
   "outputs": [],
   "source": [
    "prompt_file = load_prompt(\"topic_template.json\")"
   ]
  },
  {
   "cell_type": "code",
   "execution_count": null,
   "id": "8342b381",
   "metadata": {},
   "outputs": [],
   "source": [
    "prompt_file"
   ]
  },
  {
   "cell_type": "code",
   "execution_count": null,
   "id": "90d58789",
   "metadata": {},
   "outputs": [],
   "source": []
  }
 ],
 "metadata": {
  "kernelspec": {
   "display_name": "Python 3 (ipykernel)",
   "language": "python",
   "name": "python3"
  },
  "language_info": {
   "codemirror_mode": {
    "name": "ipython",
    "version": 3
   },
   "file_extension": ".py",
   "mimetype": "text/x-python",
   "name": "python",
   "nbconvert_exporter": "python",
   "pygments_lexer": "ipython3",
   "version": "3.11.3"
  }
 },
 "nbformat": 4,
 "nbformat_minor": 5
}
