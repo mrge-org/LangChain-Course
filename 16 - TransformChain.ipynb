{
 "cells": [
  {
   "cell_type": "markdown",
   "id": "95942bf4",
   "metadata": {},
   "source": [
    "# TransformChain"
   ]
  },
  {
   "cell_type": "code",
   "execution_count": null,
   "id": "8b652a85",
   "metadata": {},
   "outputs": [],
   "source": [
    "import openai\n",
    "import os \n",
    "from langchain.llms import OpenAI\n",
    "from langchain.chat_models import ChatOpenAI\n",
    "from langchain.prompts.chat import ChatPromptTemplate, HumanMessagePromptTemplate\n",
    "from langchain.schema import HumanMessage\n",
    "from langchain.chains import TransformChain, LLMChain, SimpleSequentialChain\n",
    "from langchain.prompts import PromptTemplate\n",
    "import re"
   ]
  },
  {
   "cell_type": "code",
   "execution_count": null,
   "id": "fb74f07d",
   "metadata": {},
   "outputs": [],
   "source": [
    "os.environ['OPENAI_API_KEY'] = ''"
   ]
  },
  {
   "cell_type": "code",
   "execution_count": null,
   "id": "5bbe264c",
   "metadata": {},
   "outputs": [],
   "source": [
    "openai.api_key = os.getenv('OPENAI_API_KEY')"
   ]
  },
  {
   "cell_type": "code",
   "execution_count": null,
   "id": "9dc999f7",
   "metadata": {},
   "outputs": [],
   "source": [
    "llm = ChatOpenAI()"
   ]
  },
  {
   "cell_type": "code",
   "execution_count": null,
   "id": "c1eed9e7",
   "metadata": {},
   "outputs": [],
   "source": [
    "with open(\"nda.txt\", 'r', encoding='utf-8') as file:\n",
    "    nda = file.read()\n"
   ]
  },
  {
   "cell_type": "code",
   "execution_count": null,
   "id": "d9d7df51",
   "metadata": {},
   "outputs": [],
   "source": [
    "print(nda)"
   ]
  },
  {
   "cell_type": "code",
   "execution_count": null,
   "id": "dc6ba68d",
   "metadata": {},
   "outputs": [],
   "source": [
    "match = re.search(r\"Exclusions from Confidential Information:(.*?)(?:\\n\\n|$)\", nda, re.DOTALL)\n",
    "section = match.group(1).strip()\n",
    "print(section)"
   ]
  },
  {
   "cell_type": "code",
   "execution_count": null,
   "id": "048b8f1a",
   "metadata": {},
   "outputs": [],
   "source": [
    "def transform_func(inputs: dict) -> dict:\n",
    "    text = inputs[\"text\"]\n",
    "    match = re.search(r\"Exclusions from Confidential Information:(.*?)(?:\\n\\n|$)\", text, re.DOTALL)\n",
    "    section = match.group(1).strip()\n",
    "    return {\"output_text\": section}\n",
    "\n",
    "transform_chain = TransformChain(\n",
    "    input_variables=[\"text\"], output_variables=[\"output_text\"], transform=transform_func\n",
    ")"
   ]
  },
  {
   "cell_type": "code",
   "execution_count": null,
   "id": "e99f9f6d",
   "metadata": {},
   "outputs": [],
   "source": [
    "template = \"\"\"Summarize this text:\n",
    "\n",
    "{output_text}\n",
    "\n",
    "Summary:\"\"\"\n",
    "prompt = PromptTemplate(input_variables=[\"output_text\"], template=template)\n",
    "llm_chain = LLMChain(llm=OpenAI(), prompt=prompt)"
   ]
  },
  {
   "cell_type": "code",
   "execution_count": null,
   "id": "2c1058b5",
   "metadata": {},
   "outputs": [],
   "source": [
    "sequential_chain = SimpleSequentialChain(chains=[transform_chain, llm_chain],verbose=True)"
   ]
  },
  {
   "cell_type": "code",
   "execution_count": null,
   "id": "cfb7ce6e",
   "metadata": {},
   "outputs": [],
   "source": [
    "sequential_chain.run(nda)"
   ]
  },
  {
   "cell_type": "code",
   "execution_count": null,
   "id": "91a93c34",
   "metadata": {},
   "outputs": [],
   "source": []
  }
 ],
 "metadata": {
  "kernelspec": {
   "display_name": "Python 3 (ipykernel)",
   "language": "python",
   "name": "python3"
  },
  "language_info": {
   "codemirror_mode": {
    "name": "ipython",
    "version": 3
   },
   "file_extension": ".py",
   "mimetype": "text/x-python",
   "name": "python",
   "nbconvert_exporter": "python",
   "pygments_lexer": "ipython3",
   "version": "3.11.3"
  }
 },
 "nbformat": 4,
 "nbformat_minor": 5
}
