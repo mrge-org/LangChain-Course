{
 "cells": [
  {
   "cell_type": "markdown",
   "id": "b502105e",
   "metadata": {},
   "source": [
    "# First LangChain Program"
   ]
  },
  {
   "cell_type": "code",
   "execution_count": null,
   "id": "4b2228e2",
   "metadata": {},
   "outputs": [],
   "source": [
    "# !pip install openai"
   ]
  },
  {
   "cell_type": "code",
   "execution_count": null,
   "id": "5bf38016",
   "metadata": {},
   "outputs": [],
   "source": [
    "import openai\n",
    "import os "
   ]
  },
  {
   "cell_type": "code",
   "execution_count": null,
   "id": "3bf476d7",
   "metadata": {},
   "outputs": [],
   "source": [
    "os.environ['OPENAI_API_KEY'] = ''"
   ]
  },
  {
   "cell_type": "code",
   "execution_count": null,
   "id": "9d9f9bea",
   "metadata": {},
   "outputs": [],
   "source": [
    "openai.api_key = os.getenv('OPENAI_API_KEY')"
   ]
  },
  {
   "cell_type": "code",
   "execution_count": null,
   "id": "d966d047",
   "metadata": {},
   "outputs": [],
   "source": [
    "reply = openai.ChatCompletion.create(\n",
    "  model=\"gpt-3.5-turbo\",\n",
    "  max_tokens =100,\n",
    "  messages=[\n",
    "        {\n",
    "            \"role\": \"system\",\n",
    "            \"content\": \"You are a helpful assistant.\"\n",
    "        },\n",
    "        {\n",
    "            \"role\": \"user\",\n",
    "            \"content\": \"What is a large language model?\",\n",
    "        }\n",
    "    ]\n",
    ")"
   ]
  },
  {
   "cell_type": "code",
   "execution_count": null,
   "id": "240945e3",
   "metadata": {},
   "outputs": [],
   "source": [
    "reply"
   ]
  },
  {
   "cell_type": "code",
   "execution_count": null,
   "id": "7f7b9d01",
   "metadata": {},
   "outputs": [],
   "source": [
    "print(reply['choices'][0]['message']['content'])"
   ]
  },
  {
   "cell_type": "code",
   "execution_count": null,
   "id": "d524ae06",
   "metadata": {},
   "outputs": [],
   "source": []
  },
  {
   "cell_type": "code",
   "execution_count": null,
   "id": "8b9163f2",
   "metadata": {},
   "outputs": [],
   "source": [
    "# !pip install langchain"
   ]
  },
  {
   "cell_type": "code",
   "execution_count": null,
   "id": "de342a46",
   "metadata": {},
   "outputs": [],
   "source": [
    "from langchain.chat_models import ChatOpenAI"
   ]
  },
  {
   "cell_type": "code",
   "execution_count": null,
   "id": "f0ad4c77",
   "metadata": {},
   "outputs": [],
   "source": [
    "llm = ChatOpenAI(openai_api_key=openai.api_key, model_name=\"gpt-3.5-turbo\", max_tokens=100)"
   ]
  },
  {
   "cell_type": "code",
   "execution_count": null,
   "id": "7bfa5d77",
   "metadata": {},
   "outputs": [],
   "source": [
    "from langchain.schema import AIMessage, HumanMessage,SystemMessage"
   ]
  },
  {
   "cell_type": "code",
   "execution_count": null,
   "id": "494f70fd",
   "metadata": {},
   "outputs": [],
   "source": [
    "reply = llm([\n",
    "SystemMessage(content='You are a helpful assistant.'),\n",
    "HumanMessage(content='what is a large language model')])"
   ]
  },
  {
   "cell_type": "code",
   "execution_count": null,
   "id": "e6e6092d",
   "metadata": {},
   "outputs": [],
   "source": [
    "reply"
   ]
  },
  {
   "cell_type": "code",
   "execution_count": null,
   "id": "75863e83",
   "metadata": {},
   "outputs": [],
   "source": [
    "print(reply.content)"
   ]
  },
  {
   "cell_type": "code",
   "execution_count": null,
   "id": "f2e94798",
   "metadata": {},
   "outputs": [],
   "source": [
    "reply = llm.generate([\n",
    "[SystemMessage(content='You are a helpful assistant.'),\n",
    "HumanMessage(content='what is a large language model')],\n",
    "[SystemMessage(content='You are an AI expert.'),\n",
    "HumanMessage(content='what is generative ai?')]\n",
    "])"
   ]
  },
  {
   "cell_type": "code",
   "execution_count": null,
   "id": "300817ff",
   "metadata": {},
   "outputs": [],
   "source": [
    "reply.generations"
   ]
  },
  {
   "cell_type": "code",
   "execution_count": null,
   "id": "ed8394d8",
   "metadata": {},
   "outputs": [],
   "source": [
    "reply.generations[1]"
   ]
  },
  {
   "cell_type": "code",
   "execution_count": null,
   "id": "ceae5856",
   "metadata": {},
   "outputs": [],
   "source": [
    "reply.generations[1][0].text"
   ]
  },
  {
   "cell_type": "code",
   "execution_count": null,
   "id": "64f2fdb3",
   "metadata": {},
   "outputs": [],
   "source": [
    "reply = llm.generate([\n",
    "[SystemMessage(content='You are a helpful assistant.'),\n",
    "HumanMessage(content='what is generative ai')],\n",
    "[SystemMessage(content='You are a helpful assistant.'),\n",
    "HumanMessage(content='improve this definition')]\n",
    "])"
   ]
  },
  {
   "cell_type": "code",
   "execution_count": null,
   "id": "fe840760",
   "metadata": {},
   "outputs": [],
   "source": [
    "reply.generations"
   ]
  },
  {
   "cell_type": "code",
   "execution_count": null,
   "id": "d4cbbf00",
   "metadata": {},
   "outputs": [],
   "source": []
  }
 ],
 "metadata": {
  "kernelspec": {
   "display_name": "Python 3 (ipykernel)",
   "language": "python",
   "name": "python3"
  },
  "language_info": {
   "codemirror_mode": {
    "name": "ipython",
    "version": 3
   },
   "file_extension": ".py",
   "mimetype": "text/x-python",
   "name": "python",
   "nbconvert_exporter": "python",
   "pygments_lexer": "ipython3",
   "version": "3.11.3"
  }
 },
 "nbformat": 4,
 "nbformat_minor": 5
}
