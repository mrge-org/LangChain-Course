{
 "cells": [
  {
   "cell_type": "markdown",
   "id": "10607bc0",
   "metadata": {},
   "source": [
    "# Multi-Modal App"
   ]
  },
  {
   "cell_type": "code",
   "execution_count": null,
   "id": "bb48db4a",
   "metadata": {},
   "outputs": [],
   "source": [
    "# pip install huggingface_hub"
   ]
  },
  {
   "cell_type": "code",
   "execution_count": null,
   "id": "baabfa68",
   "metadata": {},
   "outputs": [],
   "source": [
    "import openai\n",
    "import os \n",
    "from langchain.chat_models import ChatOpenAI\n",
    "from langchain import HuggingFaceHub\n",
    "from getpass import getpass\n",
    "from langchain.schema import AIMessage, HumanMessage,SystemMessage\n",
    "from langchain import PromptTemplate, LLMChain"
   ]
  },
  {
   "cell_type": "code",
   "execution_count": null,
   "id": "3838b552",
   "metadata": {},
   "outputs": [],
   "source": [
    "os.environ['OPENAI_API_KEY'] = ''"
   ]
  },
  {
   "cell_type": "code",
   "execution_count": null,
   "id": "e84a333f",
   "metadata": {},
   "outputs": [],
   "source": [
    "openai.api_key = os.getenv('OPENAI_API_KEY')"
   ]
  },
  {
   "cell_type": "code",
   "execution_count": null,
   "id": "13c3f367",
   "metadata": {},
   "outputs": [],
   "source": [
    "HUGGINGFACEHUB_API_TOKEN = ''"
   ]
  },
  {
   "cell_type": "code",
   "execution_count": null,
   "id": "4828bed9",
   "metadata": {},
   "outputs": [],
   "source": [
    "os.environ[\"HUGGINGFACEHUB_API_TOKEN\"] = HUGGINGFACEHUB_API_TOKEN"
   ]
  },
  {
   "cell_type": "code",
   "execution_count": null,
   "id": "ccca56c1",
   "metadata": {},
   "outputs": [],
   "source": [
    "repo_id = \"google/flan-t5-xxl\" "
   ]
  },
  {
   "cell_type": "code",
   "execution_count": null,
   "id": "24c8feef",
   "metadata": {},
   "outputs": [],
   "source": [
    "openai_llm = ChatOpenAI(openai_api_key=openai.api_key, model_name=\"gpt-3.5-turbo\", max_tokens=100)"
   ]
  },
  {
   "cell_type": "code",
   "execution_count": null,
   "id": "8973408c",
   "metadata": {},
   "outputs": [],
   "source": [
    "flan_llm = HuggingFaceHub(\n",
    "    repo_id=repo_id, model_kwargs={\"max_length\": 100}\n",
    ")  \n"
   ]
  },
  {
   "cell_type": "code",
   "execution_count": null,
   "id": "b756b054",
   "metadata": {},
   "outputs": [],
   "source": [
    "def openai_process(question):\n",
    "    reply = openai_llm([\n",
    "        SystemMessage(content='You are a helpful assistant.'),\n",
    "        HumanMessage(content=question)\n",
    "    ])\n",
    "    \n",
    "    return reply.content"
   ]
  },
  {
   "cell_type": "code",
   "execution_count": null,
   "id": "4833371e",
   "metadata": {},
   "outputs": [],
   "source": [
    "def flan_process(question):\n",
    "    template = \"{question}\"\n",
    "    prompt = PromptTemplate(template=template, input_variables=[\"question\"])\n",
    "    llm_chain = LLMChain(prompt=prompt, llm=flan_llm)\n",
    "\n",
    "    return llm_chain.run(question)\n"
   ]
  },
  {
   "cell_type": "code",
   "execution_count": null,
   "id": "a660d656",
   "metadata": {},
   "outputs": [],
   "source": [
    "question = input(\"Please enter a prompt: \")\n",
    "openai_reply = openai_process(question)\n",
    "print(f\"OpenAI reply: {openai_reply}\")\n",
    "flan_reply = flan_process(question)\n",
    "print(f\"Flan reply: {flan_reply}\")\n"
   ]
  },
  {
   "cell_type": "code",
   "execution_count": null,
   "id": "ad0679e3",
   "metadata": {},
   "outputs": [],
   "source": []
  }
 ],
 "metadata": {
  "kernelspec": {
   "display_name": "Python 3 (ipykernel)",
   "language": "python",
   "name": "python3"
  },
  "language_info": {
   "codemirror_mode": {
    "name": "ipython",
    "version": 3
   },
   "file_extension": ".py",
   "mimetype": "text/x-python",
   "name": "python",
   "nbconvert_exporter": "python",
   "pygments_lexer": "ipython3",
   "version": "3.11.3"
  }
 },
 "nbformat": 4,
 "nbformat_minor": 5
}
