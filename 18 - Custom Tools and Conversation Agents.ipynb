{
 "cells": [
  {
   "cell_type": "markdown",
   "id": "6b91b408",
   "metadata": {},
   "source": [
    "# Custom Tools and Conversation Agents"
   ]
  },
  {
   "cell_type": "code",
   "execution_count": null,
   "id": "23168c2a",
   "metadata": {},
   "outputs": [],
   "source": [
    "# !pip install google-search-results"
   ]
  },
  {
   "cell_type": "code",
   "execution_count": null,
   "id": "ed01d4cc",
   "metadata": {},
   "outputs": [],
   "source": [
    "import openai\n",
    "import os \n",
    "from langchain.llms import OpenAI\n",
    "from langchain.chat_models import ChatOpenAI\n",
    "from langchain.chains import TransformChain, LLMChain, SimpleSequentialChain\n",
    "from langchain.agents import initialize_agent\n",
    "from langchain.agents import AgentType\n",
    "from langchain.agents import load_tools"
   ]
  },
  {
   "cell_type": "code",
   "execution_count": null,
   "id": "f6950baf",
   "metadata": {},
   "outputs": [],
   "source": [
    "os.environ['OPENAI_API_KEY'] = ''"
   ]
  },
  {
   "cell_type": "code",
   "execution_count": null,
   "id": "8058a1ac",
   "metadata": {},
   "outputs": [],
   "source": [
    "openai.api_key = os.getenv('OPENAI_API_KEY')"
   ]
  },
  {
   "cell_type": "code",
   "execution_count": null,
   "id": "bde7de93",
   "metadata": {},
   "outputs": [],
   "source": [
    "os.environ['SERPAPI_API_KEY'] = ''"
   ]
  },
  {
   "cell_type": "code",
   "execution_count": null,
   "id": "00df9579",
   "metadata": {},
   "outputs": [],
   "source": [
    "llm = ChatOpenAI(temperature=0)"
   ]
  },
  {
   "cell_type": "code",
   "execution_count": null,
   "id": "918c0cdc",
   "metadata": {},
   "outputs": [],
   "source": [
    "tools = load_tools([\n",
    "'serpapi','llm-math'], llm=llm\n",
    ")"
   ]
  },
  {
   "cell_type": "code",
   "execution_count": null,
   "id": "a74bb038",
   "metadata": {},
   "outputs": [],
   "source": [
    "agent = initialize_agent(tools, llm, AgentType.ZERO_SHOT_REACT_DESCRIPTION, verbose=True)"
   ]
  },
  {
   "cell_type": "code",
   "execution_count": null,
   "id": "2b8e516c",
   "metadata": {},
   "outputs": [],
   "source": [
    "agent.run(\"What am I thinking right now?\")"
   ]
  },
  {
   "cell_type": "code",
   "execution_count": null,
   "id": "28208479",
   "metadata": {},
   "outputs": [],
   "source": [
    "from langchain.agents import tool"
   ]
  },
  {
   "cell_type": "code",
   "execution_count": null,
   "id": "42701c76",
   "metadata": {},
   "outputs": [],
   "source": [
    "@tool\n",
    "def read_my_mind(text: str) -> str:\n",
    "    '''\n",
    "    This is a function that shows what I am thinking right now.  It takes in an input of an empty string '' and returns what is on the person's mind.\n",
    "\n",
    "    '''\n",
    "    return 'LangChain'"
   ]
  },
  {
   "cell_type": "code",
   "execution_count": null,
   "id": "9ed87a9c",
   "metadata": {},
   "outputs": [],
   "source": [
    "tools = load_tools([\n",
    "'serpapi','llm-math'], llm=llm\n",
    ")"
   ]
  },
  {
   "cell_type": "code",
   "execution_count": null,
   "id": "e8bc75c7",
   "metadata": {},
   "outputs": [],
   "source": [
    "tools = tools + [read_my_mind]"
   ]
  },
  {
   "cell_type": "code",
   "execution_count": null,
   "id": "807dceb7",
   "metadata": {},
   "outputs": [],
   "source": [
    "agent = initialize_agent(tools, llm, AgentType.ZERO_SHOT_REACT_DESCRIPTION, verbose=True)"
   ]
  },
  {
   "cell_type": "code",
   "execution_count": null,
   "id": "76f82a9a",
   "metadata": {},
   "outputs": [],
   "source": [
    "agent.run(\"What am I thinking right now?\")"
   ]
  },
  {
   "cell_type": "code",
   "execution_count": null,
   "id": "73787bd5",
   "metadata": {},
   "outputs": [],
   "source": [
    "from langchain.memory import ConversationBufferMemory"
   ]
  },
  {
   "cell_type": "code",
   "execution_count": null,
   "id": "8b09c143",
   "metadata": {},
   "outputs": [],
   "source": [
    "memory = ConversationBufferMemory(memory_key='chat_history')"
   ]
  },
  {
   "cell_type": "code",
   "execution_count": null,
   "id": "03ae7079",
   "metadata": {},
   "outputs": [],
   "source": [
    "llm = ChatOpenAI(temperature=0)"
   ]
  },
  {
   "cell_type": "code",
   "execution_count": null,
   "id": "ba28bd1b",
   "metadata": {},
   "outputs": [],
   "source": [
    "tools = load_tools([\n",
    "'serpapi'], llm=llm\n",
    ")"
   ]
  },
  {
   "cell_type": "code",
   "execution_count": null,
   "id": "9f83e28a",
   "metadata": {},
   "outputs": [],
   "source": [
    "agent = initialize_agent(\n",
    "tools,\n",
    "llm,\n",
    "agent=AgentType.CONVERSATIONAL_REACT_DESCRIPTION,\n",
    "memory=memory,\n",
    "verbose=True)\n"
   ]
  },
  {
   "cell_type": "code",
   "execution_count": null,
   "id": "0d21528c",
   "metadata": {},
   "outputs": [],
   "source": [
    "agent.run(input='What is 5 plus 5?')"
   ]
  },
  {
   "cell_type": "code",
   "execution_count": null,
   "id": "e0db342c",
   "metadata": {},
   "outputs": [],
   "source": [
    "agent.run(input='Take the result and multiply it by 10.')"
   ]
  },
  {
   "cell_type": "code",
   "execution_count": null,
   "id": "d71fdc63",
   "metadata": {},
   "outputs": [],
   "source": []
  }
 ],
 "metadata": {
  "kernelspec": {
   "display_name": "Python 3 (ipykernel)",
   "language": "python",
   "name": "python3"
  },
  "language_info": {
   "codemirror_mode": {
    "name": "ipython",
    "version": 3
   },
   "file_extension": ".py",
   "mimetype": "text/x-python",
   "name": "python",
   "nbconvert_exporter": "python",
   "pygments_lexer": "ipython3",
   "version": "3.11.3"
  }
 },
 "nbformat": 4,
 "nbformat_minor": 5
}
