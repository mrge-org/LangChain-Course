{
 "cells": [
  {
   "cell_type": "markdown",
   "id": "25930bd6",
   "metadata": {},
   "source": [
    "# Output Parser"
   ]
  },
  {
   "cell_type": "code",
   "execution_count": null,
   "id": "aa63edb3",
   "metadata": {},
   "outputs": [],
   "source": [
    "import openai\n",
    "import os \n",
    "from langchain.llms import OpenAI\n",
    "from langchain.chat_models import ChatOpenAI\n",
    "from langchain.prompts import ChatPromptTemplate,SystemMessagePromptTemplate,AIMessagePromptTemplate,HumanMessagePromptTemplate"
   ]
  },
  {
   "cell_type": "code",
   "execution_count": null,
   "id": "7ae3e91d",
   "metadata": {},
   "outputs": [],
   "source": [
    "os.environ['OPENAI_API_KEY'] = ''"
   ]
  },
  {
   "cell_type": "code",
   "execution_count": null,
   "id": "3688552e",
   "metadata": {},
   "outputs": [],
   "source": [
    "openai.api_key = os.getenv('OPENAI_API_KEY')"
   ]
  },
  {
   "cell_type": "code",
   "execution_count": null,
   "id": "02c634ca",
   "metadata": {},
   "outputs": [],
   "source": [
    "llm = ChatOpenAI(openai_api_key=openai.api_key,model_name=\"gpt-3.5-turbo\")"
   ]
  },
  {
   "cell_type": "code",
   "execution_count": null,
   "id": "bb7ecfc7",
   "metadata": {},
   "outputs": [],
   "source": [
    "from langchain.output_parsers import CommaSeparatedListOutputParser"
   ]
  },
  {
   "cell_type": "code",
   "execution_count": null,
   "id": "5a74e91b",
   "metadata": {},
   "outputs": [],
   "source": [
    "csv_parser = CommaSeparatedListOutputParser()"
   ]
  },
  {
   "cell_type": "code",
   "execution_count": null,
   "id": "62310bdb",
   "metadata": {},
   "outputs": [],
   "source": [
    "csv_parser.get_format_instructions()"
   ]
  },
  {
   "cell_type": "code",
   "execution_count": null,
   "id": "b523ba4c",
   "metadata": {},
   "outputs": [],
   "source": [
    "human_template = \"{instruction}\\n{format_instructions}\"\n",
    "human_prompt = HumanMessagePromptTemplate.from_template(human_template)"
   ]
  },
  {
   "cell_type": "code",
   "execution_count": null,
   "id": "5e286af5",
   "metadata": {},
   "outputs": [],
   "source": [
    "chat = ChatPromptTemplate.from_messages([human_prompt])"
   ]
  },
  {
   "cell_type": "code",
   "execution_count": null,
   "id": "6a132115",
   "metadata": {},
   "outputs": [],
   "source": [
    "chat.format_prompt(instruction=\"List the 5 citities with the highest populations\", \n",
    "format_instructions=csv_parser.get_format_instructions()).to_messages()"
   ]
  },
  {
   "cell_type": "code",
   "execution_count": null,
   "id": "2f62e7a5",
   "metadata": {},
   "outputs": [],
   "source": [
    "prompt = chat.format_prompt(instruction=\"List the 5 citities with the highest populations\", \n",
    "format_instructions=csv_parser.get_format_instructions()).to_messages()"
   ]
  },
  {
   "cell_type": "code",
   "execution_count": null,
   "id": "fefafa4b",
   "metadata": {},
   "outputs": [],
   "source": [
    "reply = llm(prompt)\n",
    "reply.content"
   ]
  },
  {
   "cell_type": "code",
   "execution_count": null,
   "id": "a46ee8df",
   "metadata": {},
   "outputs": [],
   "source": [
    "csv_parser.parse(reply.content)"
   ]
  },
  {
   "cell_type": "code",
   "execution_count": null,
   "id": "86f83847",
   "metadata": {},
   "outputs": [],
   "source": [
    "list(reply.content)"
   ]
  },
  {
   "cell_type": "code",
   "execution_count": null,
   "id": "a4be2b06",
   "metadata": {},
   "outputs": [],
   "source": [
    "from langchain.output_parsers import DatetimeOutputParser"
   ]
  },
  {
   "cell_type": "code",
   "execution_count": null,
   "id": "8870bfee",
   "metadata": {},
   "outputs": [],
   "source": [
    "datetime_parser = DatetimeOutputParser()"
   ]
  },
  {
   "cell_type": "code",
   "execution_count": null,
   "id": "b71c7d06",
   "metadata": {},
   "outputs": [],
   "source": [
    "datetime_parser.get_format_instructions()"
   ]
  },
  {
   "cell_type": "code",
   "execution_count": null,
   "id": "9a65e472",
   "metadata": {},
   "outputs": [],
   "source": [
    "human_text = \"{instruction}\\n{format_instructions}\"\n",
    "\n",
    "human_prompt = HumanMessagePromptTemplate.from_template(human_text)"
   ]
  },
  {
   "cell_type": "code",
   "execution_count": null,
   "id": "bc98b753",
   "metadata": {},
   "outputs": [],
   "source": [
    "system_prompt = SystemMessagePromptTemplate.from_template(\"You always give reponses with datetiem formats.\")"
   ]
  },
  {
   "cell_type": "code",
   "execution_count": null,
   "id": "fb6a978d",
   "metadata": {},
   "outputs": [],
   "source": [
    "chat = ChatPromptTemplate.from_messages([system_prompt, human_prompt])"
   ]
  },
  {
   "cell_type": "code",
   "execution_count": null,
   "id": "558ea0f4",
   "metadata": {},
   "outputs": [],
   "source": [
    "prompt = chat.format_prompt(instruction=\"The date for when the Netscape browser was launched.\", \n",
    "format_instructions=datetime_parser.get_format_instructions()).to_messages()"
   ]
  },
  {
   "cell_type": "code",
   "execution_count": null,
   "id": "3f3ab583",
   "metadata": {},
   "outputs": [],
   "source": [
    "reply = llm(prompt)\n",
    "reply.content"
   ]
  },
  {
   "cell_type": "code",
   "execution_count": null,
   "id": "ba086d9d",
   "metadata": {},
   "outputs": [],
   "source": [
    "datetime_parser.parse(reply.content)"
   ]
  },
  {
   "cell_type": "code",
   "execution_count": null,
   "id": "38b378c1",
   "metadata": {},
   "outputs": [],
   "source": [
    "# pip install Pydantic"
   ]
  },
  {
   "cell_type": "code",
   "execution_count": null,
   "id": "ffe3ba2f",
   "metadata": {},
   "outputs": [],
   "source": [
    "from langchain.output_parsers import PydanticOutputParser"
   ]
  },
  {
   "cell_type": "code",
   "execution_count": null,
   "id": "9e8d50e8",
   "metadata": {},
   "outputs": [],
   "source": [
    "from pydantic import BaseModel, Field"
   ]
  },
  {
   "cell_type": "code",
   "execution_count": null,
   "id": "a73ff304",
   "metadata": {},
   "outputs": [],
   "source": [
    "class Playlist(BaseModel):\n",
    "    name: str = Field(description=\"Name of the playlist\")\n",
    "    songs: list = Field(description=\"A list of songs in the playlist\")"
   ]
  },
  {
   "cell_type": "code",
   "execution_count": null,
   "id": "b2f7b227",
   "metadata": {},
   "outputs": [],
   "source": [
    "parser = PydanticOutputParser(pydantic_object=Playlist)"
   ]
  },
  {
   "cell_type": "code",
   "execution_count": null,
   "id": "29729f2f",
   "metadata": {},
   "outputs": [],
   "source": [
    "print(parser.get_format_instructions())"
   ]
  },
  {
   "cell_type": "code",
   "execution_count": null,
   "id": "512bf24b",
   "metadata": {},
   "outputs": [],
   "source": [
    "human_text = \"{instruction}\\n{format_instructions}\""
   ]
  },
  {
   "cell_type": "code",
   "execution_count": null,
   "id": "9c48d828",
   "metadata": {},
   "outputs": [],
   "source": [
    "human_prompt = HumanMessagePromptTemplate.from_template(human_text)"
   ]
  },
  {
   "cell_type": "code",
   "execution_count": null,
   "id": "41632579",
   "metadata": {},
   "outputs": [],
   "source": [
    "chat_prompt = ChatPromptTemplate.from_messages([human_prompt])"
   ]
  },
  {
   "cell_type": "code",
   "execution_count": null,
   "id": "c083834e",
   "metadata": {},
   "outputs": [],
   "source": [
    "prompt = chat_prompt.format_prompt(instruction=\"Create a playlist for disco songs\",\n",
    "format_instructions=parser.get_format_instructions()).to_messages()"
   ]
  },
  {
   "cell_type": "code",
   "execution_count": null,
   "id": "0a2a9302",
   "metadata": {},
   "outputs": [],
   "source": [
    "reply = llm(prompt)"
   ]
  },
  {
   "cell_type": "code",
   "execution_count": null,
   "id": "3367a1c5",
   "metadata": {},
   "outputs": [],
   "source": [
    "reply"
   ]
  },
  {
   "cell_type": "code",
   "execution_count": null,
   "id": "baa2fe11",
   "metadata": {},
   "outputs": [],
   "source": [
    "parser.parse(reply.content)"
   ]
  },
  {
   "cell_type": "code",
   "execution_count": null,
   "id": "0e8b28ca",
   "metadata": {},
   "outputs": [],
   "source": []
  }
 ],
 "metadata": {
  "kernelspec": {
   "display_name": "Python 3 (ipykernel)",
   "language": "python",
   "name": "python3"
  },
  "language_info": {
   "codemirror_mode": {
    "name": "ipython",
    "version": 3
   },
   "file_extension": ".py",
   "mimetype": "text/x-python",
   "name": "python",
   "nbconvert_exporter": "python",
   "pygments_lexer": "ipython3",
   "version": "3.11.3"
  }
 },
 "nbformat": 4,
 "nbformat_minor": 5
}
