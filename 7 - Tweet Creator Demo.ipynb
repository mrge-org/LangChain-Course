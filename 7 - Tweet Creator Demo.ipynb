{
 "cells": [
  {
   "cell_type": "markdown",
   "id": "72d52b47",
   "metadata": {},
   "source": [
    "# Tweet Creator"
   ]
  },
  {
   "cell_type": "code",
   "execution_count": null,
   "id": "df2f558f",
   "metadata": {},
   "outputs": [],
   "source": [
    "import openai\n",
    "import os \n",
    "from langchain.llms import OpenAI\n",
    "from langchain.chat_models import ChatOpenAI\n",
    "from langchain.prompts import ChatPromptTemplate,SystemMessagePromptTemplate,AIMessagePromptTemplate,HumanMessagePromptTemplate\n",
    "from langchain.output_parsers import PydanticOutputParser\n",
    "from pydantic import BaseModel, Field"
   ]
  },
  {
   "cell_type": "code",
   "execution_count": null,
   "id": "f04d5c0a",
   "metadata": {},
   "outputs": [],
   "source": [
    "os.environ['OPENAI_API_KEY'] = ''"
   ]
  },
  {
   "cell_type": "code",
   "execution_count": null,
   "id": "edc78201",
   "metadata": {},
   "outputs": [],
   "source": [
    "openai.api_key = os.getenv('OPENAI_API_KEY')"
   ]
  },
  {
   "cell_type": "code",
   "execution_count": null,
   "id": "d0ae29bb",
   "metadata": {},
   "outputs": [],
   "source": [
    "llm = ChatOpenAI(openai_api_key=openai.api_key,model_name=\"gpt-3.5-turbo\")"
   ]
  },
  {
   "cell_type": "code",
   "execution_count": null,
   "id": "870aceaa",
   "metadata": {},
   "outputs": [],
   "source": [
    "class My_List(BaseModel):\n",
    "    name: str = Field(description=\"\")\n",
    "    list_items: list = Field(description=\"\")\n",
    "\n",
    "def list_creator(topic):\n",
    "    My_List.name=f\"Name of the list of the {topic}\"\n",
    "    My_List.list_items=f\"A list of the {topic}\"\n",
    "    \n",
    "    parser = PydanticOutputParser(pydantic_object=My_List)\n",
    "    \n",
    "    human_text = \"{instruction}\\n{format_instructions}\"\n",
    "    human_prompt = HumanMessagePromptTemplate.from_template(human_text)\n",
    "    \n",
    "    chat_prompt = ChatPromptTemplate.from_messages([human_prompt])\n",
    "\n",
    "    prompt = chat_prompt.format_prompt(instruction=f\"Create a list for {topic}\",\n",
    "    format_instructions=parser.get_format_instructions()).to_messages()\n",
    "    \n",
    "    reply = llm(prompt)\n",
    "     \n",
    "    return parser.parse(reply.content)\n",
    "\n",
    "def tweet_creator(topic, tone):\n",
    "    system_template = 'You are a social media expert.'\n",
    "    system_message = SystemMessagePromptTemplate.from_template(system_template)\n",
    "    \n",
    "    human_template = \"Write a tweet about {topic}.  The tone should be {tone}.  The tweet should be no longer than 240 characters.\"\n",
    "    human_message = HumanMessagePromptTemplate.from_template(human_template)\n",
    "    \n",
    "    chat_prompt = ChatPromptTemplate.from_messages([system_message,human_message])\n",
    "    prompt = chat_prompt.format_prompt(topic=topic,tone=tone).to_messages()\n",
    "    reply = llm(prompt)\n",
    "\n",
    "    return reply.content\n",
    "\n",
    "    \n",
    "topic = input(\"Please enter a topic for a list: \")\n",
    "result_list = list_creator(topic)\n",
    "print(\"------------\")\n",
    "for i, result in enumerate(result_list.list_items, start=1):\n",
    "    print(f\"{i}. {result}\")\n",
    "    \n",
    "topic_number = int(input(\"Enter the topic number to make a tweet about it.\"))    \n",
    "tone = input(\"Enter the tone for the tweet.\")\n",
    "tweet = tweet_creator(result_list.list_items[topic_number -1], tone)\n",
    "print(\"------------\")\n",
    "print(f\"The tweet: {tweet}\")\n",
    "\n"
   ]
  },
  {
   "cell_type": "code",
   "execution_count": null,
   "id": "da4e8dc9",
   "metadata": {},
   "outputs": [],
   "source": []
  }
 ],
 "metadata": {
  "kernelspec": {
   "display_name": "Python 3 (ipykernel)",
   "language": "python",
   "name": "python3"
  },
  "language_info": {
   "codemirror_mode": {
    "name": "ipython",
    "version": 3
   },
   "file_extension": ".py",
   "mimetype": "text/x-python",
   "name": "python",
   "nbconvert_exporter": "python",
   "pygments_lexer": "ipython3",
   "version": "3.11.3"
  }
 },
 "nbformat": 4,
 "nbformat_minor": 5
}
