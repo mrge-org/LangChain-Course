{
 "cells": [
  {
   "cell_type": "markdown",
   "id": "7227f00d",
   "metadata": {},
   "source": [
    "# Zero-Shot ReAct Agent"
   ]
  },
  {
   "cell_type": "code",
   "execution_count": null,
   "id": "6a8b9a53",
   "metadata": {},
   "outputs": [],
   "source": [
    "import openai\n",
    "import os \n",
    "from langchain.llms import OpenAI\n",
    "from langchain.chat_models import ChatOpenAI\n",
    "from langchain.chains import TransformChain, LLMChain, SimpleSequentialChain\n",
    "from langchain.agents import initialize_agent\n",
    "from langchain.agents import AgentType\n",
    "from langchain.agents import load_tools"
   ]
  },
  {
   "cell_type": "code",
   "execution_count": null,
   "id": "8e560190",
   "metadata": {},
   "outputs": [],
   "source": [
    "os.environ['OPENAI_API_KEY'] = ''"
   ]
  },
  {
   "cell_type": "code",
   "execution_count": null,
   "id": "d212df3e",
   "metadata": {},
   "outputs": [],
   "source": [
    "openai.api_key = os.getenv('OPENAI_API_KEY')"
   ]
  },
  {
   "cell_type": "code",
   "execution_count": null,
   "id": "1a76c73a",
   "metadata": {},
   "outputs": [],
   "source": [
    "llm = ChatOpenAI(temperature=0)"
   ]
  },
  {
   "cell_type": "code",
   "execution_count": null,
   "id": "31723fa4",
   "metadata": {},
   "outputs": [],
   "source": [
    "tools = load_tools([\n",
    "\"llm-math\"], llm=llm\n",
    ")"
   ]
  },
  {
   "cell_type": "code",
   "execution_count": null,
   "id": "a83e0cfb",
   "metadata": {},
   "outputs": [],
   "source": [
    "type(tools)"
   ]
  },
  {
   "cell_type": "code",
   "execution_count": null,
   "id": "356c4c7c",
   "metadata": {},
   "outputs": [],
   "source": [
    "dir(AgentType)"
   ]
  },
  {
   "cell_type": "code",
   "execution_count": null,
   "id": "ed4cb561",
   "metadata": {},
   "outputs": [],
   "source": [
    "agent = initialize_agent(tools, \n",
    "                         llm, \n",
    "                         agent=AgentType.ZERO_SHOT_REACT_DESCRIPTION,\n",
    "                         verbose=True)"
   ]
  },
  {
   "cell_type": "code",
   "execution_count": null,
   "id": "9379165a",
   "metadata": {},
   "outputs": [],
   "source": [
    "agent.run(\"What is 1930 divided by 197?\")"
   ]
  },
  {
   "cell_type": "code",
   "execution_count": null,
   "id": "f32e822d",
   "metadata": {},
   "outputs": [],
   "source": [
    "1930 / 197"
   ]
  },
  {
   "cell_type": "code",
   "execution_count": null,
   "id": "36b01973",
   "metadata": {},
   "outputs": [],
   "source": [
    "agent = initialize_agent(tools, \n",
    "                         llm, \n",
    "                         agent=AgentType.ZERO_SHOT_REACT_DESCRIPTION,\n",
    "                         verbose=False)\n",
    "agent.run(\"What is 1930 divided by 197?\")"
   ]
  },
  {
   "cell_type": "code",
   "execution_count": null,
   "id": "d78f5435",
   "metadata": {},
   "outputs": [],
   "source": [
    "# !pip install google-search-results"
   ]
  },
  {
   "cell_type": "code",
   "execution_count": null,
   "id": "5f9fa4a5",
   "metadata": {},
   "outputs": [],
   "source": [
    "os.environ['SERPAPI_API_KEY'] = ''"
   ]
  },
  {
   "cell_type": "code",
   "execution_count": null,
   "id": "823d05fa",
   "metadata": {},
   "outputs": [],
   "source": [
    "llm = ChatOpenAI(temperature=0)"
   ]
  },
  {
   "cell_type": "code",
   "execution_count": null,
   "id": "4281557b",
   "metadata": {},
   "outputs": [],
   "source": [
    "tools = load_tools([\n",
    "'serpapi','llm-math'], llm=llm\n",
    ")"
   ]
  },
  {
   "cell_type": "code",
   "execution_count": null,
   "id": "15eab4a9",
   "metadata": {},
   "outputs": [],
   "source": [
    "agent = initialize_agent(tools, llm, AgentType.ZERO_SHOT_REACT_DESCRIPTION, verbose=True)"
   ]
  },
  {
   "cell_type": "code",
   "execution_count": null,
   "id": "df7aad8c",
   "metadata": {},
   "outputs": [],
   "source": [
    "agent.run(\"What's the difference in age between Lady Gaga and Taylor Swift?\")"
   ]
  },
  {
   "cell_type": "code",
   "execution_count": null,
   "id": "abfcc5e1",
   "metadata": {},
   "outputs": [],
   "source": [
    "from langchain.tools.python.tool import PythonREPLTool\n",
    "from langchain.python import PythonREPL\n",
    "from langchain.agents.agent_toolkits import create_python_agent"
   ]
  },
  {
   "cell_type": "code",
   "execution_count": null,
   "id": "3472d55b",
   "metadata": {},
   "outputs": [],
   "source": [
    "agent = create_python_agent(\n",
    "    llm=llm,\n",
    "    tool=PythonREPLTool(),\n",
    "    verbose=True,\n",
    "    agent_type=AgentType.ZERO_SHOT_REACT_DESCRIPTION,\n",
    ")"
   ]
  },
  {
   "cell_type": "code",
   "execution_count": null,
   "id": "83882113",
   "metadata": {},
   "outputs": [],
   "source": [
    "names = [\"CHARLIE\", \"BOB\", \"ALICE\", \"DAVID\", \"EVELYN\"]"
   ]
  },
  {
   "cell_type": "code",
   "execution_count": null,
   "id": "f9c548ee",
   "metadata": {},
   "outputs": [],
   "source": [
    "agent.run(f'''\n",
    "Convert this list into lowercase: {names}.  Then sort the list.\n",
    "\n",
    "''')"
   ]
  },
  {
   "cell_type": "code",
   "execution_count": null,
   "id": "560ac48b",
   "metadata": {},
   "outputs": [],
   "source": []
  }
 ],
 "metadata": {
  "kernelspec": {
   "display_name": "Python 3 (ipykernel)",
   "language": "python",
   "name": "python3"
  },
  "language_info": {
   "codemirror_mode": {
    "name": "ipython",
    "version": 3
   },
   "file_extension": ".py",
   "mimetype": "text/x-python",
   "name": "python",
   "nbconvert_exporter": "python",
   "pygments_lexer": "ipython3",
   "version": "3.11.3"
  }
 },
 "nbformat": 4,
 "nbformat_minor": 5
}
